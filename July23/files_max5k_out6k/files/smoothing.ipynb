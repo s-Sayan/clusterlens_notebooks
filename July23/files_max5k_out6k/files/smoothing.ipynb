{
 "cells": [
  {
   "cell_type": "code",
   "execution_count": 3,
   "metadata": {},
   "outputs": [],
   "source": [
    "import numpy as np\n",
    "import camb\n",
    "from numpy.fft import fftshift\n",
    "from tqdm import tqdm\n",
    "import time\n",
    "\n",
    "import lensit as li\n",
    "from lensit.clusterlens import lensingmap, profile\n",
    "from lensit.misc.misc_utils import gauss_beam\n",
    "from lensit.ffs_covs import ffs_cov, ell_mat\n",
    "\n",
    "\n",
    "import os\n",
    "import os.path as op\n",
    "import matplotlib as mpl\n",
    "from matplotlib import pyplot as plt\n",
    "from lensit.pbs import pbs\n",
    "from scipy.interpolate import UnivariateSpline as spline\n"
   ]
  },
  {
   "cell_type": "code",
   "execution_count": 64,
   "metadata": {},
   "outputs": [],
   "source": [
    "mpl.rcParams['axes.labelsize'] = 20\n",
    "mpl.rcParams['font.size'] = 20\n",
    "mpl.rcParams['figure.figsize'] = 8.5, 5.5\n",
    "\n",
    "mpl.rcParams['mathtext.fontset'] = 'cm'\n",
    "mpl.rcParams['mathtext.rm'] = 'serif'\n",
    "mpl.rc('text', usetex=True)\n",
    "mpl.rcParams['errorbar.capsize'] = 4\n",
    "mpl.rc('legend', fontsize=15)"
   ]
  },
  {
   "cell_type": "code",
   "execution_count": 5,
   "metadata": {},
   "outputs": [],
   "source": [
    "# We start by intiating CAMB which will give us the relevant cosmology \n",
    "cambinifile = 'planck_2018_acc'\n",
    "\n",
    "pars = camb.read_ini(op.join(op.dirname('/home/users/s/sahasay2/git_repos/camb/inifiles'),  'inifiles', cambinifile + '.ini'))\n",
    "results = camb.get_results(pars)"
   ]
  },
  {
   "cell_type": "code",
   "execution_count": 14,
   "metadata": {},
   "outputs": [
    {
     "name": "stdout",
     "output_type": "stream",
     "text": [
      "The size of the data patch is 307.2 X 307.2 arcmin central box\n",
      "/home/users/s/sahasay2/lensit_sims/temp/clustermaps/camb_planck_2018_acc/cmbexp_S4_sayan/nfw_profile/lensed_by_lss/npix1024_lpix_0.3amin_lmaxsky10000/M200_2.000000E+14_z0.7/1000_sims\n"
     ]
    }
   ],
   "source": [
    "# We define here the parameters for the profile of the cluster\n",
    "M200, z = 2 * 1e14, 0.7\n",
    "profname = 'nfw'\n",
    "key = \"lss\" # \"lss\"/\"cluster\"/\"lss_plus_cluster\"\n",
    "profparams={'M200c':M200, 'z':z}\n",
    "hprofile = profile.profile(results, profname)\n",
    "xmax = 3*hprofile.get_concentration(M200, z)\n",
    "# Define here the map square patches\n",
    "npix = 1024  # Number of pixels\n",
    "lpix_amin = 0.3 # Physical size of a pixel in arcmin (There is bug when <0.2 amin, due to low precision in Cl_TE at )\n",
    "\n",
    "print(\"The size of the data patch is %0.1f X %0.1f arcmin central box\"%(npix*lpix_amin, npix*lpix_amin))\n",
    "\n",
    "# Maximum multipole used to generate the CMB maps from the CMB power spectra\n",
    "# ellmaxsky = 6000 # (bug when ellmax>6300 because of low precision in Cl_TE of CAMB )\n",
    "ellmaxsky = 10000 \n",
    "\n",
    "# Set the maximum ell observed in the CMB data maps\n",
    "ellmaxdat = 5000\n",
    "ellmindat = 100\n",
    "\n",
    "# Number of simulated maps \n",
    "nsims = 1000\n",
    "\n",
    "# Set CMB experiment for noise level and beam\n",
    "cmb_exp='S4_sayan'\n",
    "\n",
    "# We will cache things in this directory \n",
    "libdir = lensingmap.get_cluster_libdir(cambinifile,  profname, key, npix, lpix_amin, ellmaxsky, M200, z, nsims, cmb_exp)\n",
    "print(libdir)"
   ]
  },
  {
   "cell_type": "code",
   "execution_count": 16,
   "metadata": {},
   "outputs": [],
   "source": [
    "np.random.seed(seed=20)\n",
    "clustermaps = lensingmap.cluster_maps(libdir, key, npix, lpix_amin, nsims, results, profparams, profilename=profname,  ellmax_sky = ellmaxsky, ellmax_data=ellmaxdat, ellmin_data=ellmindat, cmb_exp=cmb_exp)"
   ]
  },
  {
   "cell_type": "code",
   "execution_count": 15,
   "metadata": {},
   "outputs": [],
   "source": [
    "lmax = ellmaxsky\n",
    "cpp_fid = results.get_lens_potential_cls(lmax=lmax, raw_cl=True).T[0]\n",
    "\n",
    "camb_cls = results.get_unlensed_scalar_cls(CMB_unit='muK', raw_cl=True, lmax=lmax).T\n",
    "cls_unl_fid = {'tt':camb_cls[0], 'ee':camb_cls[1], 'bb':camb_cls[2], 'te':camb_cls[3], 'pp':cpp_fid}\n",
    "\n",
    "camb_cls_len = results.get_lensed_scalar_cls(CMB_unit='muK', raw_cl=True, lmax=lmax).T\n",
    "cls_len_fid = {'tt':camb_cls_len[0], 'ee':camb_cls_len[1], 'bb':camb_cls_len[2], 'te':camb_cls_len[3], 'pp':cpp_fid}\n",
    "\n",
    "camb_cls_len = results.get_lensed_gradient_cls(CMB_unit='muK', raw_cl=True, lmax=lmax).T\n",
    "cls_gradlen_fid = {'tt':camb_cls_len[0], 'ee':camb_cls_len[1], 'bb':camb_cls_len[2], 'te':camb_cls_len[4], 'pp':cpp_fid}"
   ]
  },
  {
   "cell_type": "code",
   "execution_count": 17,
   "metadata": {},
   "outputs": [],
   "source": [
    "ellmax_sky = clustermaps.ellmax_sky\n",
    "sN_uKamin, sN_uKaminP, Beam_FWHM_amin, ellmin, ellmax = li.get_config(clustermaps.cmb_exp)\n",
    "\n",
    "cls_noise = {'t': (sN_uKamin * np.pi / 180. / 60.) ** 2 * np.ones(clustermaps.ellmax_sky + 1),\n",
    "            'q':(sN_uKaminP * np.pi / 180. / 60.) ** 2 * np.ones(clustermaps.ellmax_sky + 1),\n",
    "            'u':(sN_uKaminP * np.pi / 180. / 60.) ** 2 * np.ones(clustermaps.ellmax_sky + 1)}  # simple flat noise Cls\n",
    "# cl_transf = gauss_beam(Beam_FWHM_amin / 60. * np.pi / 180., lmax=ellmax_sky)\n",
    "# lib_alm = ell_mat.ffs_alm_pyFFTW(get_ellmat(LD_res, HD_res=HD_res),\n",
    "                    # filt_func=lambda ell: (ell >= ellmin) & (ell <= ellmax), num_threads=pyFFTWthreads)\n",
    "# lib_skyalm = ell_mat.ffs_alm_pyFFTW(clustermaps.ellmat,\n",
    "                    # filt_func=lambda ell: (ell <= ellmax_sky), num_threads=clustermaps.num_threads)\n",
    "\n",
    "cl_transf = clustermaps.cl_transf\n",
    "lib_skyalm = clustermaps.lib_skyalm\n",
    "\n",
    "typ = 'T'\n",
    "\n",
    "lib_dir = op.join(clustermaps.dat_libdir, typ)\n",
    "# isocov = ffs_cov.ffs_diagcov_alm(lib_dir, clustermaps.lib_datalm, clustermaps.cls_unl, cls_len, cl_transf, cls_noise, lib_skyalm=lib_skyalm)\n",
    "isocov = ffs_cov.ffs_diagcov_alm(lib_dir, clustermaps.lib_datalm, cls_unl_fid, cls_len_fid, cl_transf, cls_noise, lib_skyalm=lib_skyalm)"
   ]
  },
  {
   "cell_type": "code",
   "execution_count": 105,
   "metadata": {},
   "outputs": [],
   "source": [
    "# Load the normalisation files\n",
    "wl_1 = np.loadtxt(\"normalisation_cstMF_lmax5k_lmin100_lmaxout10k_nit20_tot1em7_sims1k.dat\")"
   ]
  },
  {
   "cell_type": "code",
   "execution_count": 86,
   "metadata": {},
   "outputs": [],
   "source": [
    "wl_1[0]=0.0"
   ]
  },
  {
   "cell_type": "code",
   "execution_count": 106,
   "metadata": {},
   "outputs": [],
   "source": [
    "wl_sm = np.zeros((len(wl_1)))"
   ]
  },
  {
   "cell_type": "code",
   "execution_count": 107,
   "metadata": {},
   "outputs": [],
   "source": [
    "def smooth_array(arr, window_size=3):\n",
    "    \"\"\"\n",
    "    Smooths an array by applying a moving average filter.\n",
    "    \n",
    "    Arguments:\n",
    "    arr -- The input array to be smoothed.\n",
    "    window_size -- The size of the moving window (default: 3).\n",
    "    \n",
    "    Returns:\n",
    "    The smoothed array.\n",
    "    \"\"\"\n",
    "    smoothed = []\n",
    "    for i in range(len(arr)):\n",
    "        start = max(0, i - window_size // 2)\n",
    "        end = min(len(arr), i + window_size // 2 + 1)\n",
    "        window = arr[start:end]\n",
    "        average = sum(window) / len(window)\n",
    "        smoothed.append(average)\n",
    "    return smoothed"
   ]
  },
  {
   "cell_type": "code",
   "execution_count": 108,
   "metadata": {},
   "outputs": [],
   "source": [
    "ell, = np.where(isocov.lib_skyalm.get_Nell()[:6000])\n",
    "el = ell[1:]"
   ]
  },
  {
   "cell_type": "code",
   "execution_count": 109,
   "metadata": {},
   "outputs": [],
   "source": [
    "# smooth the array\n",
    "wl_smooth = smooth_array(wl_1[el], 10)"
   ]
  },
  {
   "cell_type": "code",
   "execution_count": 112,
   "metadata": {},
   "outputs": [],
   "source": [
    "wl_sm[el] = wl_smooth"
   ]
  },
  {
   "cell_type": "code",
   "execution_count": 111,
   "metadata": {},
   "outputs": [
    {
     "data": {
      "text/plain": [
       "[<matplotlib.lines.Line2D at 0x14da59cdb850>]"
      ]
     },
     "execution_count": 111,
     "metadata": {},
     "output_type": "execute_result"
    },
    {
     "data": {
      "image/png": "[encoded data removed]",
      "text/plain": [
       "<Figure size 612x396 with 1 Axes>"
      ]
     },
     "metadata": {
      "needs_background": "light"
     },
     "output_type": "display_data"
    }
   ],
   "source": [
    "plt.plot(el, wl_1[el], label='original')\n",
    "plt.plot(el, wl_sm[el], label='smoothed')"
   ]
  },
  {
   "cell_type": "code",
   "execution_count": 114,
   "metadata": {},
   "outputs": [],
   "source": [
    "np.savetxt(\"normalisation_cstMF_lmax5k_lmin100_lmaxout6k_nit20_tot1em7_sims1k_smoothed.dat\", wl_sm)"
   ]
  },
  {
   "cell_type": "code",
   "execution_count": null,
   "metadata": {},
   "outputs": [],
   "source": [
    "wl_sm[ell]"
   ]
  }
 ],
 "metadata": {
  "kernelspec": {
   "display_name": "Python 3.9.12 ('clusterlens': conda)",
   "language": "python",
   "name": "python3"
  },
  "language_info": {
   "codemirror_mode": {
    "name": "ipython",
    "version": 3
   },
   "file_extension": ".py",
   "mimetype": "text/x-python",
   "name": "python",
   "nbconvert_exporter": "python",
   "pygments_lexer": "ipython3",
   "version": "3.9.12"
  },
  "orig_nbformat": 4,
  "vscode": {
   "interpreter": {
    "hash": "1883db892102973d874819fd14de5c8b760f245e761a043f10233516056de8ab"
   }
  }
 },
 "nbformat": 4,
 "nbformat_minor": 2
}
